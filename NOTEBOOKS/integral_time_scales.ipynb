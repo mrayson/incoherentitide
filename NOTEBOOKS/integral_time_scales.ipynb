{
 "cells": [
  {
   "cell_type": "markdown",
   "id": "85ff634a-d86f-4b2c-8423-ce6fc9dc3e45",
   "metadata": {},
   "source": [
    "# Compute integral time scales\n",
    "$$\n",
    "T = \\frac{2}{k(0)}\\int_0^\\infty k(\\tau)~\\mathrm{d}\\tau\n",
    "$$\n",
    "\n",
    "$$\n",
    "T = \\frac{\\tau_d^2}{\\tau_d^2\\omega^2+1}\n",
    "$$\n",
    "when $k(\\tau)$ is a Lorentzian.\n",
    "\n",
    "$$\n",
    "1/2 \\exp(-1/4 T^2 ω^2) \\sqrt(π) |T|\n",
    "$$\n",
    "\n",
    "https://www.wolframalpha.com/input?i=int+exp%28-x%2FT%29*cos%28omega*x%29+dx%2C+x%3D0..infinity\n",
    "\n",
    "https://www.wolframalpha.com/input?i=int+exp%28-x%2FT%29*cos%28omega*x%29+dx%2C+x%3D0..infinity"
   ]
  },
  {
   "cell_type": "code",
   "execution_count": 3,
   "id": "e07f393d-f981-4ec3-ab89-260cd0441327",
   "metadata": {},
   "outputs": [],
   "source": [
    "import numpy as np\n",
    "import matplotlib.pyplot as plt\n",
    "import nonstat_itides as nsit\n",
    "\n"
   ]
  },
  {
   "cell_type": "code",
   "execution_count": 78,
   "id": "f9c46e9b-fb4e-421a-9fd1-b00c4fc128c7",
   "metadata": {},
   "outputs": [
    {
     "name": "stdout",
     "output_type": "stream",
     "text": [
      "1.0 2.0415768009735857 1\n",
      "1.5 1.815069176634125 0.902745\n",
      "2.0 1.772453850905511 0.8862269254527579\n"
     ]
    },
    {
     "data": {
      "text/plain": [
       "0.8681788752988692"
      ]
     },
     "execution_count": 78,
     "metadata": {},
     "output_type": "execute_result"
    }
   ],
   "source": [
    "\n",
    "\n",
    "# covfunc = nsit.gamma_exp_1d\n",
    "# covparams = (1, 20., 2.)\n",
    "\n",
    "def integral_timescale(acf, covparams, tmax=500, N=1000):\n",
    "    t = np.linspace(0, tmax, N) # days\n",
    "\n",
    "    acf = covfunc(t, t[0], covparams)\n",
    "    \n",
    "    return 1./covparams[0] * np.trapz(acf, t)\n",
    "\n",
    "#covfunc = nsit.itmodel_gamma\n",
    "covfunc = nsit.gamma_exp_1d\n",
    "\n",
    "T = 1\n",
    "print(1., integral_timescale(covfunc, (1, T, 1.)), T) # gamma = 1\n",
    "print(1.5, integral_timescale(covfunc, (1, T, 1.5)), 0.902745/ (((1/T)**1.5)**(2/3.)) ) # gamma = 1.5\n",
    "print(2., integral_timescale(covfunc, (1, T, 2.)), np.sqrt(np.pi)/2 *T) # gamma = 2\n",
    "integral_timescale(covfunc, (1, T, 2.)) /  integral_timescale(covfunc, (1, T, 1.))\n",
    "#tau_d, omega = covparams[1], 0.5\n",
    "\n",
    "# plt.plot(t, acf)\n",
    "# plt.vlines(Tint, -1, 1,'k')\n",
    "# plt.xlim(0,tau_d*3)\n",
    "\n",
    "#Tint, covparams[1] , tau_d/(tau_d**2*omega**2 + 1)"
   ]
  },
  {
   "cell_type": "code",
   "execution_count": 34,
   "id": "8fa2d1bf-400f-48e9-b78a-ed1d8c4cf670",
   "metadata": {},
   "outputs": [
    {
     "data": {
      "text/plain": [
       "1728.0"
      ]
     },
     "execution_count": 34,
     "metadata": {},
     "output_type": "execute_result"
    }
   ],
   "source": []
  },
  {
   "cell_type": "code",
   "execution_count": null,
   "id": "d829946a-6103-48f1-a129-9a2b6659fe9c",
   "metadata": {},
   "outputs": [],
   "source": []
  }
 ],
 "metadata": {
  "kernelspec": {
   "display_name": "Python 3 (ipykernel)",
   "language": "python",
   "name": "python3"
  },
  "language_info": {
   "codemirror_mode": {
    "name": "ipython",
    "version": 3
   },
   "file_extension": ".py",
   "mimetype": "text/x-python",
   "name": "python",
   "nbconvert_exporter": "python",
   "pygments_lexer": "ipython3",
   "version": "3.10.10"
  }
 },
 "nbformat": 4,
 "nbformat_minor": 5
}
