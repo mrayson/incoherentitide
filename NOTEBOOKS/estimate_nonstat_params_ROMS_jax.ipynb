{
 "cells": [
  {
   "cell_type": "code",
   "execution_count": 1,
   "id": "59a2a42a-70f6-4937-a716-8c371ce913e4",
   "metadata": {},
   "outputs": [],
   "source": [
    "import xarray as xr\n",
    "\n",
    "import numpy as np\n",
    "import matplotlib.pyplot as plt\n",
    "from glob import glob\n",
    "from dask.diagnostics import ProgressBar\n",
    "\n",
    "import speccy\n",
    "import nonstat_itides_jax as nsjax\n",
    "import nonstat_itides as nsit\n",
    "import optax"
   ]
  },
  {
   "cell_type": "code",
   "execution_count": 2,
   "id": "5a86f6b6-7a56-4dfb-9e15-721e864020fd",
   "metadata": {},
   "outputs": [],
   "source": [
    "def load_scenario(scenario):\n",
    "    ncfiles = {'wp5':\n",
    "             [\n",
    "             '../DATA/ROMS/wp5/t1/file_inst_00010101-00010219.nc',\n",
    "             '../DATA/ROMS/wp5/t1/file_inst_00010220-00010410.nc',\n",
    "            '../DATA/ROMS/wp5/t2/file_inst_00010101-00010219.nc',\n",
    "            '../DATA/ROMS/wp5/t2/file_inst_00010220-00010410.nc',\n",
    "              #'../DATA/ROMS/wp5/t3/file_inst_00010101-00010219.nc',\n",
    "              #'../DATA/ROMS/wp5/t3/file_inst_00010220-00010410.nc'\n",
    "             ],\n",
    "               'wp6':\n",
    "             [\n",
    "             '../DATA/ROMS/wp6/t1/inst_00010101-00010219.nc',\n",
    "             '../DATA/ROMS/wp6/t1/inst_00010220-00010410.nc',\n",
    "            '../DATA/ROMS/wp6/t2/inst_00010101-00010219.nc',\n",
    "            '../DATA/ROMS/wp6/t2/inst_00010220-00010410.nc',\n",
    "             ],\n",
    "               'wp75':\n",
    "             [\n",
    "             '../DATA/ROMS/wp75/t1/inst_00010101-00010219.nc',\n",
    "             '../DATA/ROMS/wp75/t1/inst_00010220-00010410.nc',\n",
    "            '../DATA/ROMS/wp75/t2/inst_00010101-00010219.nc',\n",
    "            '../DATA/ROMS/wp75/t2/inst_00010220-00010410.nc',\n",
    "             ],\n",
    "                'wp8':\n",
    "             [\n",
    "             '../DATA/ROMS/wp8/t1/file_inst_00010101-00010219.nc',\n",
    "             '../DATA/ROMS/wp8/t1/file_inst_00010220-00010410.nc',\n",
    "            '../DATA/ROMS/wp8/t2/file_inst_00010101-00010219.nc',\n",
    "            '../DATA/ROMS/wp8/t2/file_inst_00010220-00010410.nc',\n",
    "              #'../DATA/ROMS/wp8/t3/file_inst_00010101-00010219.nc',\n",
    "              #'../DATA/ROMS/wp8/t3/file_inst_00010220-00010410.nc'\n",
    "             ],\n",
    "               'wp9':\n",
    "             [\n",
    "             '../DATA/ROMS/wp9/t1/file_inst_00010101-00010219.nc',\n",
    "             '../DATA/ROMS/wp9/t1/file_inst_00010220-00010410.nc',\n",
    "            '../DATA/ROMS/wp9/t2/file_inst_00010101-00010219.nc',\n",
    "            '../DATA/ROMS/wp9/t2/file_inst_00010220-00010410.nc',\n",
    "              #'../DATA/ROMS/wp9/t3/file_inst_00010101-00010219.nc',\n",
    "              #'../DATA/ROMS/wp9/t3/file_inst_00010220-00010410.nc'\n",
    "             ],\n",
    "              }\n",
    "    \n",
    "    ds0 = xr.open_mfdataset(ncfiles[scenario][0:2])\n",
    "    ds1 = xr.open_mfdataset(ncfiles[scenario][2:4])\n",
    "    \n",
    "    dt1 = ds0['time_instant'][-1]-ds0['time_instant'][0]\n",
    "    ds1['time_instant'] = ds1['time_instant']+dt1\n",
    "    ds1['time_counter'] = ds1['time_counter']+dt1\n",
    "\n",
    "    if len(ncfiles[scenario])>4:\n",
    "        ds2 = xr.open_mfdataset(ncfiles[scenario][4:6])\n",
    "        dt2 = ds1['time_instant'][-1]-ds1['time_instant'][0]\n",
    "        \n",
    "        ds2['time_instant'] = ds2['time_instant']+dt1+dt2\n",
    "        ds2['time_counter'] = ds2['time_counter']+dt1+dt2\n",
    "\n",
    "        return xr.concat([ds0, ds1, ds2], dim='time_counter')\n",
    "\n",
    "    else:\n",
    "        return xr.concat([ds0, ds1], dim='time_counter')\n",
    "        "
   ]
  },
  {
   "cell_type": "code",
   "execution_count": 3,
   "id": "c2b26f9f-7b3f-4c55-9f19-3d31a102cdbe",
   "metadata": {},
   "outputs": [],
   "source": [
    "def estimate_spectral_params_jax(y,  X=None, covfunc=None, covparams_ic=None, fmin=None, fmax=None,\n",
    "                                transformer=nsjax.LogTransformer,\n",
    "                                opt=optax.adabelief(learning_rate=1e-1)):\n",
    "    \n",
    "    params, loss_val = nsjax.estimate_jax(y, X, covfunc, covparams_ic, fmin, fmax,\n",
    "                        maxiter=5000,\n",
    "                         opt= opt,\n",
    "                         verbose=False,\n",
    "                        transformer=transformer)\n",
    "\n",
    "    return params\n",
    "    #return np.concatenate([params, np.array([f_cor_cpd]) ])\n",
    "\n",
    "\n",
    "def estimate_params(scenario, covfunc, paramnames, fmin, fmax, window=None, \n",
    "                    transformer=nsjax.LogTransformer, varname='v_y'):\n",
    "    ds = load_scenario(scenario)\n",
    "    \n",
    "    # Load a subset of the data\n",
    "    ds_out = ds.sel(y_vy=slice(250,500,1))\n",
    "    \n",
    "    # Calculate the coherent portion of the signal\n",
    "    y = ds_out[varname].chunk({'y_vy':1,'time_counter':-1}).squeeze()\n",
    "\n",
    "    t_ = y['time_instant'] - y['time_instant'][0]\n",
    "    X = t_.values.astype(float)/1e9/86400\n",
    "    \n",
    "    y_coherent,_,_,_,_ = nsit.calc_coherent(y, X)\n",
    "    \n",
    "    inputs = dict(X=X, covfunc=covfunc, covparams_ic=covparams_ic, fmin=fmin, fmax=fmax, transformer=transformer)\n",
    "    \n",
    "    print('\\tEstimating parameters...')\n",
    "    params = xr.apply_ufunc(estimate_spectral_params_jax,\n",
    "                         y-y_coherent,\n",
    "                          dask='parallelized',\n",
    "                          kwargs=inputs,\n",
    "                          output_dtypes=[y.dtype],\n",
    "                          input_core_dims=(['time_counter'],),\n",
    "                          output_core_dims=(['params'],),\n",
    "                          #output_sizes=,\n",
    "                          dask_gufunc_kwargs={'output_sizes':{'params':len(covparams_ic)}},\n",
    "                          vectorize=True,\n",
    "                         )\n",
    "    \n",
    "    with ProgressBar():\n",
    "        params = params.compute()\n",
    "    \n",
    "    params.name='data'\n",
    "    params.attrs={'parameter names':paramnames,\n",
    "                              'covariance function':covfunc.__name__}\n",
    "    \n",
    "    ## Export the data \n",
    "    nt = X.shape[0]\n",
    "    ny,_ = params.shape\n",
    "    da_vy_coh = xr.DataArray(ds_out['v_y'])\n",
    "    da_vy_coh[:] = y_coherent.reshape((nt,1,ny,1))\n",
    "    da_vy_coh.attrs['long_name'] = 'tidally-coherent v-momentum component'\n",
    "    da_vy_coh.name = 'v_y_coherent'\n",
    "    \n",
    "    ds_paramsout = ds_out.drop_vars(['ssh_y','T_y','u_y','w_y'])\n",
    "    ds_paramsout['data'] = params\n",
    "    ds_paramsout['v_y_coherent'] = da_vy_coh\n",
    "    \n",
    "    return ds_paramsout"
   ]
  },
  {
   "cell_type": "raw",
   "id": "2d01825a-b9d7-460d-8275-313003dc359a",
   "metadata": {},
   "source": [
    "###\n",
    "covfunc = nsjax.itide_D2_meso_gammaexp\n",
    "paramnames = ('η_m','τ_m','γ_m', 'η_D2','τ_D2','γ_D2')\n",
    "covparams_ic = (0.1, 10, 1.5, 0.1, 10, 1.5)\n",
    "fmin, fmax = 5e-3, 3.\n",
    "\n",
    "# for scenario in ['wp5','wp6','wp75','wp8','wp9']:\n",
    "for scenario in ['wp9']:\n",
    "\n",
    "    ds_paramsout = estimate_params(scenario, covfunc, paramnames, fmin, fmax)\n",
    "    output_nc = '../DATA/ROMS/{}_params_{}.nc'.format(scenario,covfunc.__name__)\n",
    "    #ds_paramsout.to_netcdf(output_nc)\n",
    "    print(output_nc)"
   ]
  },
  {
   "cell_type": "code",
   "execution_count": 4,
   "id": "54b57731-13fc-4082-b67f-f2ea881c6532",
   "metadata": {},
   "outputs": [
    {
     "name": "stderr",
     "output_type": "stream",
     "text": [
      "/home/jupyter-mrayson/.local/lib/python3.10/site-packages/dask/array/core.py:3469: UserWarning: Passing an object to dask.array.from_array which is already a Dask collection. This can lead to unexpected behavior.\n",
      "  warnings.warn(\n"
     ]
    },
    {
     "name": "stdout",
     "output_type": "stream",
     "text": [
      "\tEstimating parameters...\n",
      "[########################################] | 100% Completed | 19m 54ss\n",
      "../DATA/ROMS/wp5_params_itide_D2_meso_gammaexp_u_y_v2.nc\n"
     ]
    },
    {
     "name": "stderr",
     "output_type": "stream",
     "text": [
      "/home/jupyter-mrayson/.local/lib/python3.10/site-packages/dask/array/core.py:3469: UserWarning: Passing an object to dask.array.from_array which is already a Dask collection. This can lead to unexpected behavior.\n",
      "  warnings.warn(\n"
     ]
    },
    {
     "name": "stdout",
     "output_type": "stream",
     "text": [
      "\tEstimating parameters...\n",
      "[########################################] | 100% Completed | 249.57 s\n",
      "../DATA/ROMS/wp6_params_itide_D2_meso_gammaexp_u_y_v2.nc\n"
     ]
    },
    {
     "name": "stderr",
     "output_type": "stream",
     "text": [
      "/home/jupyter-mrayson/.local/lib/python3.10/site-packages/dask/array/core.py:3469: UserWarning: Passing an object to dask.array.from_array which is already a Dask collection. This can lead to unexpected behavior.\n",
      "  warnings.warn(\n"
     ]
    },
    {
     "name": "stdout",
     "output_type": "stream",
     "text": [
      "\tEstimating parameters...\n",
      "[########################################] | 100% Completed | 466.32 s\n",
      "../DATA/ROMS/wp75_params_itide_D2_meso_gammaexp_u_y_v2.nc\n"
     ]
    },
    {
     "name": "stderr",
     "output_type": "stream",
     "text": [
      "/home/jupyter-mrayson/.local/lib/python3.10/site-packages/dask/array/core.py:3469: UserWarning: Passing an object to dask.array.from_array which is already a Dask collection. This can lead to unexpected behavior.\n",
      "  warnings.warn(\n"
     ]
    },
    {
     "name": "stdout",
     "output_type": "stream",
     "text": [
      "\tEstimating parameters...\n",
      "[########################################] | 100% Completed | 10m 11ss\n",
      "../DATA/ROMS/wp8_params_itide_D2_meso_gammaexp_u_y_v2.nc\n"
     ]
    },
    {
     "name": "stderr",
     "output_type": "stream",
     "text": [
      "/home/jupyter-mrayson/.local/lib/python3.10/site-packages/dask/array/core.py:3469: UserWarning: Passing an object to dask.array.from_array which is already a Dask collection. This can lead to unexpected behavior.\n",
      "  warnings.warn(\n"
     ]
    },
    {
     "name": "stdout",
     "output_type": "stream",
     "text": [
      "\tEstimating parameters...\n",
      "[########################################] | 100% Completed | 10m 47ss\n",
      "../DATA/ROMS/wp9_params_itide_D2_meso_gammaexp_u_y_v2.nc\n"
     ]
    }
   ],
   "source": [
    "# Use a logit transform\n",
    "\n",
    "##\n",
    "covfunc = nsjax.itide_D2_meso_gammaexp\n",
    "paramnames = ('η_m','τ_m','γ_m', 'η_D2','τ_D2','γ_D2')\n",
    "covparams_ic = (0.1, 10, 1.5, 0.1, 10, 1.5)\n",
    "fmin, fmax = 5e-3, 3.\n",
    "\n",
    "varname = 'u_y'\n",
    "\n",
    "for scenario in ['wp5','wp6','wp75','wp8','wp9']:\n",
    "#for scenario in ['wp9']:\n",
    "\n",
    "    ds_paramsout = estimate_params(scenario, covfunc, paramnames, fmin, fmax, transformer=nsjax.CustomTransformer)\n",
    "    output_nc = '../DATA/ROMS/{}_params_{}_{}_v2.nc'.format(scenario,covfunc.__name__, varname)\n",
    "    ds_paramsout.to_netcdf(output_nc)\n",
    "    print(output_nc)"
   ]
  },
  {
   "cell_type": "code",
   "execution_count": null,
   "id": "f9379d99-4bf8-4c82-b420-1df89cd5c078",
   "metadata": {},
   "outputs": [],
   "source": [
    "covfunc = nsjax.oscillate_1d_gammaexp\n",
    "paramnames = ('η_D2','τ_D2','γ_D2','T_D2')\n",
    "covparams_ic = (0.1, 10, 1.5, 0.5)\n",
    "fmin, fmax = 1.5, 2.5\n",
    "\n",
    "for scenario in ['wp5','wp6','wp75','wp8','wp9']:\n",
    "    ds_paramsout = estimate_params(scenario, covfunc, paramnames, fmin, fmax)\n",
    "    output_nc = '../DATA/ROMS/{}_params_{}.nc'.format(scenario,covfunc.__name__)\n",
    "    ds_paramsout.to_netcdf(output_nc)\n",
    "    print(output_nc)"
   ]
  },
  {
   "cell_type": "code",
   "execution_count": null,
   "id": "a0c139d0-87ac-4ffe-8cb3-99c2616b2240",
   "metadata": {},
   "outputs": [],
   "source": [
    "covfunc = nsjax.itide_D2_meso_gammaexp_fixed\n",
    "paramnames = ('η_m','τ_m','γ_m', 'η_D2','τ_D2')\n",
    "covparams_ic = (0.1, 10, 1.5, 0.1, 10)\n",
    "fmin, fmax = 5e-3, 3.\n",
    "\n",
    "for scenario in ['wp5','wp6','wp75','wp8','wp9']:\n",
    "# for scenario in ['wp6','wp75','wp8','wp9']:\n",
    "\n",
    "    ds_paramsout = estimate_params(scenario, covfunc, paramnames, fmin, fmax)\n",
    "    output_nc = '../DATA/ROMS/{}_params_{}.nc'.format(scenario,covfunc.__name__)\n",
    "    ds_paramsout.to_netcdf(output_nc)\n",
    "    print(output_nc)"
   ]
  },
  {
   "cell_type": "code",
   "execution_count": 9,
   "id": "ab963dd8-329b-460c-b1c0-42f149b98ea1",
   "metadata": {},
   "outputs": [
    {
     "name": "stderr",
     "output_type": "stream",
     "text": [
      "/home/jupyter-mrayson/.local/lib/python3.10/site-packages/dask/array/core.py:3469: UserWarning: Passing an object to dask.array.from_array which is already a Dask collection. This can lead to unexpected behavior.\n",
      "  warnings.warn(\n"
     ]
    },
    {
     "name": "stdout",
     "output_type": "stream",
     "text": [
      "\tEstimating parameters...\n",
      "[########################################] | 100% Completed | 77m 41ss\n",
      "../DATA/ROMS/wp5_params_itide_D2_meso_gammaexp_fixed_v2.nc\n"
     ]
    },
    {
     "name": "stderr",
     "output_type": "stream",
     "text": [
      "/home/jupyter-mrayson/.local/lib/python3.10/site-packages/dask/array/core.py:3469: UserWarning: Passing an object to dask.array.from_array which is already a Dask collection. This can lead to unexpected behavior.\n",
      "  warnings.warn(\n"
     ]
    },
    {
     "name": "stdout",
     "output_type": "stream",
     "text": [
      "\tEstimating parameters...\n",
      "[########################################] | 100% Completed | 42m 20ss\n",
      "../DATA/ROMS/wp6_params_itide_D2_meso_gammaexp_fixed_v2.nc\n"
     ]
    },
    {
     "name": "stderr",
     "output_type": "stream",
     "text": [
      "/home/jupyter-mrayson/.local/lib/python3.10/site-packages/dask/array/core.py:3469: UserWarning: Passing an object to dask.array.from_array which is already a Dask collection. This can lead to unexpected behavior.\n",
      "  warnings.warn(\n"
     ]
    },
    {
     "name": "stdout",
     "output_type": "stream",
     "text": [
      "\tEstimating parameters...\n",
      "[########################################] | 100% Completed | 277.41 s\n",
      "../DATA/ROMS/wp75_params_itide_D2_meso_gammaexp_fixed_v2.nc\n"
     ]
    },
    {
     "name": "stderr",
     "output_type": "stream",
     "text": [
      "/home/jupyter-mrayson/.local/lib/python3.10/site-packages/dask/array/core.py:3469: UserWarning: Passing an object to dask.array.from_array which is already a Dask collection. This can lead to unexpected behavior.\n",
      "  warnings.warn(\n"
     ]
    },
    {
     "name": "stdout",
     "output_type": "stream",
     "text": [
      "\tEstimating parameters...\n",
      "[########################################] | 100% Completed | 323.29 s\n",
      "../DATA/ROMS/wp8_params_itide_D2_meso_gammaexp_fixed_v2.nc\n"
     ]
    },
    {
     "name": "stderr",
     "output_type": "stream",
     "text": [
      "/home/jupyter-mrayson/.local/lib/python3.10/site-packages/dask/array/core.py:3469: UserWarning: Passing an object to dask.array.from_array which is already a Dask collection. This can lead to unexpected behavior.\n",
      "  warnings.warn(\n"
     ]
    },
    {
     "name": "stdout",
     "output_type": "stream",
     "text": [
      "\tEstimating parameters...\n",
      "[########################################] | 100% Completed | 338.96 s\n",
      "../DATA/ROMS/wp9_params_itide_D2_meso_gammaexp_fixed_v2.nc\n"
     ]
    }
   ],
   "source": [
    "class CustomTransformer2:\n",
    "    def __init__(self,params):\n",
    "        self.params = params\n",
    "\n",
    "    def __call__(self):\n",
    "        params_t = nsjax.np.log(self.params)\n",
    "        params_t = params_t.at[2].set(nsjax.invlogit(self.params[2],scale=2))\n",
    "        return params_t\n",
    "        \n",
    "    def out(self, tparams):\n",
    "        params = nsjax.np.exp(tparams)\n",
    "        params = params.at[2].set(nsjax.logit(tparams[2],scale=2))\n",
    "        return params\n",
    "        \n",
    "covfunc = nsjax.itide_D2_meso_gammaexp_fixed\n",
    "paramnames = ('η_m','τ_m','γ_m', 'η_D2','τ_D2')\n",
    "covparams_ic = (0.1, 10, 1.5, 0.1, 10)\n",
    "fmin, fmax = 5e-3, 3.\n",
    "\n",
    "for scenario in ['wp5','wp6','wp75','wp8','wp9']:\n",
    "# for scenario in ['wp6','wp75','wp8','wp9']:\n",
    "\n",
    "    ds_paramsout = estimate_params(scenario, covfunc, paramnames, fmin, fmax, transformer=CustomTransformer2)\n",
    "    output_nc = '../DATA/ROMS/{}_params_{}_v2.nc'.format(scenario,covfunc.__name__)\n",
    "    ds_paramsout.to_netcdf(output_nc)\n",
    "    print(output_nc)"
   ]
  },
  {
   "cell_type": "markdown",
   "id": "6890dddb-7440-4d35-8acf-2ebb30dbd729",
   "metadata": {},
   "source": [
    "# Testing below here..."
   ]
  },
  {
   "cell_type": "code",
   "execution_count": null,
   "id": "671335bc-d531-40d2-a513-38f47bcb0c63",
   "metadata": {},
   "outputs": [],
   "source": [
    "ds.time_instant.values"
   ]
  },
  {
   "cell_type": "code",
   "execution_count": null,
   "id": "67c447c4-a375-40b7-87e7-a28421d93e1b",
   "metadata": {},
   "outputs": [],
   "source": [
    "plt.figure()\n",
    "ds.rot_y.plot()\n",
    "# plt.savefig('../FIGURES/PK2015_ROMS_vorticity_{}.png'.format(scenario), dpi=150)"
   ]
  },
  {
   "cell_type": "code",
   "execution_count": null,
   "id": "4813d401-6f32-4e37-8158-bbcca82cc652",
   "metadata": {},
   "outputs": [],
   "source": [
    "plt.figure()\n",
    "ds.v_y.plot()\n",
    "# plt.savefig('../FIGURES/PK2015_ROMS_v_{}.png'.format(scenario), dpi=150)"
   ]
  },
  {
   "cell_type": "code",
   "execution_count": null,
   "id": "a454e491-42b2-470e-9209-35e1c435d112",
   "metadata": {},
   "outputs": [],
   "source": [
    "ypt = 400\n",
    "#y = ds['ssh_y'].sel(y_rhoy=ypt)\n",
    "y = ds['v_y'].sel(y_vy=ypt)\n",
    "dt = y['time_instant'][1] - y['time_instant'][0]\n",
    "dtout = dt.values.astype(float)/1e9/86400\n",
    "ypr = y.values.ravel()-y.values.mean()\n",
    "t_ = y['time_instant'] - y['time_instant'][0]\n",
    "t = t_.values.astype(float)/1e9/86400\n",
    "plt.figure()\n",
    "y.plot()\n",
    "\n",
    "# plt.xlim(y['time_instant'][0], y['time_instant'][500])\n",
    "# plt.savefig('../FIGURES/PK2015_ROMS_v_timeseries_{}.png'.format(scenario), dpi=150)"
   ]
  },
  {
   "cell_type": "code",
   "execution_count": null,
   "id": "f64dbf34-c956-495c-9a1e-cab0191e520a",
   "metadata": {},
   "outputs": [],
   "source": [
    "\n",
    "dt = y['time_instant'][1] - y['time_instant'][0]\n",
    "dtout = dt.values.astype(float)/1e9/86400\n",
    "\n",
    "y_coherent = nsit.calc_coherent(ypr, t)\n",
    "\n",
    "f, I =  speccy.periodogram(ypr-y_coherent[:,0], delta=dtout)\n",
    "\n",
    "plt.figure()\n",
    "ax1=plt.subplot(111)\n",
    "plt.loglog(f, I)"
   ]
  },
  {
   "cell_type": "code",
   "execution_count": null,
   "id": "89c45fab-4e0e-42c2-b559-e702ddc0f95f",
   "metadata": {},
   "outputs": [],
   "source": [
    "import optax"
   ]
  },
  {
   "cell_type": "code",
   "execution_count": null,
   "id": "7dc22cf5-cd5c-4f1e-bc68-1fd4afba111e",
   "metadata": {},
   "outputs": [],
   "source": [
    "%%time\n",
    "# covfunc = meso_itide_gamma\n",
    "# covfunc = meso_itide_matern\n",
    "covfunc = nsjax.itide_D2_meso_gammaexp\n",
    "paramnames = ('η_m','τ_m','γ_m', 'η_D2','τ_D2','γ_D2')\n",
    "\n",
    "covparams_ic = (0.1, 10, 1.5, 0.1, 10, 1.5)\n",
    "fmin, fmax = 5e-3, 3.\n",
    "priors=None\n",
    "\n",
    "\n",
    "acf1 = covfunc(t, t[0], covparams_ic)\n",
    "f_S1, S1 = speccy.bochner(acf1, delta=dtout)\n",
    "\n",
    "soln,loss_val = nsjax.estimate_jax(ypr-y_coherent[:,0], t, covfunc, covparams_ic, fmin, fmax,\n",
    "                window=None,\n",
    "                verbose=True,\n",
    "                maxiter=5000,\n",
    "                ftol=1e-2,\n",
    "                opt=optax.adabelief(learning_rate=1e-1),\n",
    "                #opt= optax.sgd(learning_rate=3e-4),\n",
    "                #transformer=LogTransformer)\n",
    "            )\n",
    "# soln = params_loss[:-1]\n",
    "# loss_val = params_loss[-1]\n",
    "\n",
    "print(soln)\n",
    "acf = covfunc(t, t[0], soln)\n",
    "\n",
    "f_S, S = speccy.bochner(acf, delta=dtout)\n",
    "plt.figure()\n",
    "plt.loglog(f, I, lw=0.5)\n",
    "# plt.loglog(f_S1,S1)\n",
    "plt.loglog(f_S,S,'--')\n",
    "\n",
    "# plt.xlim(fmin, fmax)\n",
    "plt.ylim(1e-9,1e1)\n",
    "plt.vlines(fmax, 1e-9,1e1,colors='k',ls=':')\n",
    "\n",
    "plt.xlabel('f [cpd]')\n",
    "\n",
    "# # plt.savefig('../FIGURES/PK2015_ROMS_psd_maternitgamma_{}.png'.format(scenario), dpi=150)"
   ]
  },
  {
   "cell_type": "code",
   "execution_count": null,
   "id": "b5759e33-17cd-4aab-9ada-f8800083fa19",
   "metadata": {},
   "outputs": [],
   "source": [
    "ds_out = ds.sel(y_vy=slice(250,500,10))\n",
    "ds_out\n"
   ]
  },
  {
   "cell_type": "code",
   "execution_count": null,
   "id": "96cc1326-4970-4005-b62c-8963f778f66f",
   "metadata": {},
   "outputs": [],
   "source": [
    "%%time\n",
    "y = ds_out['v_y'].chunk({'y_vy':1,'time_counter':-1}).squeeze()\n",
    "y_coherent = nsit.calc_coherent(y, t)\n"
   ]
  },
  {
   "cell_type": "code",
   "execution_count": null,
   "id": "e5dd72b5-ac49-4fa0-99e2-b7c5d65c528c",
   "metadata": {},
   "outputs": [],
   "source": [
    "from dask.diagnostics import ProgressBar"
   ]
  },
  {
   "cell_type": "code",
   "execution_count": null,
   "id": "d18a80d9-96d7-47e5-b5f4-0e2778e32923",
   "metadata": {},
   "outputs": [],
   "source": [
    "window=None\n",
    "X = t\n",
    "\n",
    "inputs = dict(X=X, covfunc=covfunc, covparams_ic=covparams_ic, fmin=fmin, fmax=fmax)\n",
    "\n",
    "def estimate_spectral_params_jax(y,  X=X, covfunc=covfunc, covparams_ic=covparams_ic, fmin=fmin, fmax=fmax):\n",
    "    \n",
    "    params, loss_val = nsjax.estimate_jax(y, X, covfunc, covparams_ic, fmin, fmax,\n",
    "                        maxiter=5000,\n",
    "                         opt= optax.adabelief(learning_rate=1e-1),\n",
    "                         verbose=False)\n",
    "\n",
    "    return params\n",
    "    #return np.concatenate([params, np.array([f_cor_cpd]) ])\n",
    "\n",
    "print('\\tBuilding the dask graph...')\n",
    "params = xr.apply_ufunc(estimate_spectral_params_jax,\n",
    "                     y-y_coherent,\n",
    "                      dask='parallelized',\n",
    "                      kwargs=inputs,\n",
    "                      output_dtypes=[y.dtype],\n",
    "                      input_core_dims=(['time_counter'],),\n",
    "                      output_core_dims=(['params'],),\n",
    "                      #output_sizes=,\n",
    "                      dask_gufunc_kwargs={'output_sizes':{'params':len(covparams_ic)}},\n",
    "                      vectorize=True,\n",
    "                     )\n",
    "\n",
    "with ProgressBar():\n",
    "    params = params.compute()\n"
   ]
  },
  {
   "cell_type": "code",
   "execution_count": null,
   "id": "a391c125-d7fb-4fa9-965a-befc45e5ae7f",
   "metadata": {},
   "outputs": [],
   "source": [
    "params.name='data'\n",
    "params.attrs={'parameter names':paramnames,\n",
    "                          'covariance function':covfunc.__name__}\n"
   ]
  },
  {
   "cell_type": "code",
   "execution_count": null,
   "id": "76449395-47f9-424a-aeb3-3035b93f93dd",
   "metadata": {},
   "outputs": [],
   "source": [
    "## Export the data \n",
    "nt = t.shape[0]\n",
    "ny,_ = params.shape\n",
    "da_vy_coh = xr.DataArray(ds_out['v_y'])\n",
    "da_vy_coh[:] = y_coherent.reshape((nt,1,ny,1))\n",
    "da_vy_coh.attrs['long_name'] = 'tidally-coherent v-momentum component'\n",
    "da_vy_coh.name = 'v_y_coherent'\n",
    "\n",
    "ds_paramsout = ds_out.drop_vars(['ssh_y','T_y','u_y','w_y'])\n",
    "ds_paramsout['data'] = params\n",
    "ds_paramsout['v_y_coherent'] = da_vy_coh\n",
    "\n",
    "ds_paramsout"
   ]
  },
  {
   "cell_type": "markdown",
   "id": "316fa2d7-cddd-4bea-a36d-81b640e684bf",
   "metadata": {},
   "source": [
    "### Old stuff below here"
   ]
  },
  {
   "cell_type": "code",
   "execution_count": null,
   "id": "080c5f3c-8eca-4f1f-8092-411b1cf088a4",
   "metadata": {},
   "outputs": [],
   "source": [
    "from tqdm import tqdm\n"
   ]
  },
  {
   "cell_type": "code",
   "execution_count": null,
   "id": "ae0aa596-7ec8-4060-8dfd-18d563aeeada",
   "metadata": {},
   "outputs": [],
   "source": [
    "ds_out = ds.sel(y_vy=slice(250,500,2))"
   ]
  },
  {
   "cell_type": "code",
   "execution_count": null,
   "id": "f68141d0-cd35-4296-95c8-33151fb46833",
   "metadata": {},
   "outputs": [],
   "source": [
    "nparams = len(covparams)\n",
    "paramsout = np.zeros((ds_out.dims['y_vy'], nparams))\n",
    "for jj in tqdm(range(ds_out.dims['y_vy'])):\n",
    "    #t, y, ylow = calc_raw(ds_nonstat, ii, jj, dtout, 'ssh')\n",
    "    y = ds_out['v_y'].isel(y_vy=jj)\n",
    "    ypr = y.values.ravel()-y.values.mean()\n",
    "    y_coherent = nsit.calc_coherent(ypr, t)\n",
    "    soln = nsit.estimate_spectral_params_whittle_ufunc(ypr-y_coherent, **inputs)\n",
    "    paramsout[jj,:] = soln"
   ]
  },
  {
   "cell_type": "code",
   "execution_count": null,
   "id": "a429ee9a-1275-486e-8d64-af119b0abaed",
   "metadata": {},
   "outputs": [],
   "source": [
    "labels=['η_m','ℓ_m', 'ν_m','η_i','ℓ_i', 'γ_i']\n",
    "x = ds_out['nav_lat_vy'].values/1000\n",
    "\n",
    "plt.figure(figsize=(9,6))\n",
    "ax=plt.subplot(611)\n",
    "plt.plot(x,paramsout[:,0])\n",
    "plt.ylabel(labels[0])\n",
    "ax.set_xticklabels([])\n",
    "\n",
    "ax=plt.subplot(612)\n",
    "plt.plot(x,paramsout[:,1])\n",
    "plt.ylabel(labels[1])\n",
    "ax.set_xticklabels([])\n",
    "plt.ylim(bounds[1])\n",
    "        \n",
    "ax=plt.subplot(613)\n",
    "plt.plot(x,paramsout[:,2])\n",
    "plt.ylabel(labels[2])\n",
    "ax.set_xticklabels([])\n",
    "plt.ylim(bounds[2])\n",
    "\n",
    "ax=plt.subplot(614)\n",
    "plt.plot(x,paramsout[:,3])\n",
    "plt.ylabel(labels[3])\n",
    "ax.set_xticklabels([])\n",
    "\n",
    "ax=plt.subplot(615)\n",
    "plt.plot(x,paramsout[:,4])\n",
    "plt.ylabel(labels[4])\n",
    "ax.set_xticklabels([])\n",
    "plt.ylim(bounds[4])\n",
    "\n",
    "\n",
    "plt.subplot(616)\n",
    "plt.plot(x,paramsout[:,5])\n",
    "plt.ylabel(labels[5])\n",
    "plt.ylim(bounds[5])\n",
    "\n",
    "plt.xlabel('y [km]')\n",
    "plt.savefig('../FIGURES/PK2015_ROMS_params_maternitgamma_{}.png'.format(scenario), dpi=150)"
   ]
  },
  {
   "cell_type": "code",
   "execution_count": null,
   "id": "1f9e5a7c-ad2f-4440-8d1a-f533cebd9b54",
   "metadata": {},
   "outputs": [],
   "source": [
    "import seaborn as sns"
   ]
  },
  {
   "cell_type": "code",
   "execution_count": null,
   "id": "5277f560-a15b-4ca2-a4a4-7b660c1a0274",
   "metadata": {},
   "outputs": [],
   "source": [
    "import pandas as pd"
   ]
  },
  {
   "cell_type": "code",
   "execution_count": null,
   "id": "f449a05a-1f3e-43a4-a8b6-747102825241",
   "metadata": {},
   "outputs": [],
   "source": [
    "sns.pairplot(pd.DataFrame(paramsout, columns=labels))"
   ]
  },
  {
   "cell_type": "code",
   "execution_count": null,
   "id": "c6e01d2b-e040-4a55-a975-85d899221076",
   "metadata": {},
   "outputs": [],
   "source": []
  }
 ],
 "metadata": {
  "kernelspec": {
   "display_name": "Python 3 (ipykernel)",
   "language": "python",
   "name": "python3"
  },
  "language_info": {
   "codemirror_mode": {
    "name": "ipython",
    "version": 3
   },
   "file_extension": ".py",
   "mimetype": "text/x-python",
   "name": "python",
   "nbconvert_exporter": "python",
   "pygments_lexer": "ipython3",
   "version": "3.10.10"
  }
 },
 "nbformat": 4,
 "nbformat_minor": 5
}
